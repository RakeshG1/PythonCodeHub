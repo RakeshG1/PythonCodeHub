{
 "cells": [
  {
   "attachments": {},
   "cell_type": "markdown",
   "metadata": {},
   "source": [
    "#### Import Libraries"
   ]
  },
  {
   "cell_type": "code",
   "execution_count": 8,
   "metadata": {},
   "outputs": [],
   "source": [
    "import os\n",
    "import time\n",
    "import svgwrite"
   ]
  },
  {
   "cell_type": "code",
   "execution_count": 9,
   "metadata": {},
   "outputs": [
    {
     "data": {
      "text/plain": [
       "'/mnt/Local/Git_Repo/PythonCodeHub/FlaskApps'"
      ]
     },
     "execution_count": 9,
     "metadata": {},
     "output_type": "execute_result"
    }
   ],
   "source": [
    "os.path.dirname(os.getcwd())"
   ]
  },
  {
   "cell_type": "code",
   "execution_count": 10,
   "metadata": {},
   "outputs": [
    {
     "data": {
      "text/plain": [
       "'/mnt/Local/Git_Repo/PythonCodeHub/FlaskApps/Scripts/templates/sample-kpi.svg'"
      ]
     },
     "execution_count": 10,
     "metadata": {},
     "output_type": "execute_result"
    }
   ],
   "source": [
    "svg_file_path = os.path.dirname(os.getcwd())+\"/Scripts/templates/sample-kpi.svg\"\n",
    "svg_file_path"
   ]
  },
  {
   "cell_type": "code",
   "execution_count": null,
   "metadata": {},
   "outputs": [],
   "source": [
    "# dwg = svgwrite.Drawing(svg_file_path, profile='tiny')\n",
    "# dwg.add(dwg.line((0, 0), (10, 0), stroke=svgwrite.rgb(10, 10, 16, '%')))\n",
    "# dwg.add(dwg.text('Test', insert=(0, 0.2), fill='red'))\n",
    "# dwg.save()"
   ]
  },
  {
   "cell_type": "code",
   "execution_count": 11,
   "metadata": {},
   "outputs": [],
   "source": [
    "telemetry_value = 10"
   ]
  },
  {
   "cell_type": "code",
   "execution_count": null,
   "metadata": {},
   "outputs": [],
   "source": [
    "while telemetry_value <= 4000:\n",
    "    \n",
    "    svg_document = svgwrite.Drawing(filename = svg_file_path,\n",
    "                                    size = (\"500px\", \"500px\"))\n",
    "\n",
    "    svg_document.add(svg_document.rect(insert = (0, 0),\n",
    "                                        size = (\"500px\", \"400px\"),\n",
    "                                        stroke_width = \"12\",\n",
    "                                        stroke = \"black\",\n",
    "                                        fill = \"rgb(87, 83, 85)\"))\n",
    "\n",
    "    svg_document.add(svg_document.text(f\"KPI Value : {telemetry_value}\",\n",
    "                                        insert = (210, 210),\n",
    "                                        fill='white'\n",
    "                                        ))\n",
    "\n",
    "    print(svg_document.tostring())\n",
    "    \n",
    "    telemetry_value += 10\n",
    "    \n",
    "    # 10 milli secs gap\n",
    "    time.sleep(10)\n",
    "\n",
    "    svg_document.save()"
   ]
  }
 ],
 "metadata": {
  "kernelspec": {
   "display_name": "Grafana_Env",
   "language": "python",
   "name": "python3"
  },
  "language_info": {
   "codemirror_mode": {
    "name": "ipython",
    "version": 3
   },
   "file_extension": ".py",
   "mimetype": "text/x-python",
   "name": "python",
   "nbconvert_exporter": "python",
   "pygments_lexer": "ipython3",
   "version": "3.12.3"
  },
  "orig_nbformat": 4
 },
 "nbformat": 4,
 "nbformat_minor": 2
}
