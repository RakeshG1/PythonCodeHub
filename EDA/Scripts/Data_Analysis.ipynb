{
 "cells": [
  {
   "cell_type": "markdown",
   "metadata": {},
   "source": [
    "### Import Libraries"
   ]
  },
  {
   "cell_type": "code",
   "execution_count": 8,
   "metadata": {},
   "outputs": [],
   "source": [
    "import pandas as pd\n",
    "import numpy as np \n",
    "import os \n",
    "import sys\n",
    "import yaml\n",
    "import tqdm \n",
    "import matplotlib.patches as mpatches\n",
    "# import pandas_profiling as pp\n",
    "import matplotlib.pyplot as plt\n",
    "import seaborn as sns \n",
    "import warnings\n",
    "from datetime import datetime, timedelta\n",
    "from matplotlib.backends.backend_pdf import PdfPages\n",
    "from matplotlib.cbook import boxplot_stats\n",
    "from IPython.display import display, HTML \n",
    "\n",
    "warnings.filterwarnings(\"ignore\")\n",
    "%matplotlib inline"
   ]
  },
  {
   "cell_type": "code",
   "execution_count": 1,
   "metadata": {},
   "outputs": [],
   "source": [
    "# print(plt.style.available)"
   ]
  },
  {
   "cell_type": "markdown",
   "metadata": {},
   "source": [
    "### Import Data"
   ]
  },
  {
   "cell_type": "code",
   "execution_count": 11,
   "metadata": {},
   "outputs": [
    {
     "name": "stdout",
     "output_type": "stream",
     "text": [
      "file_path : c:\\Users\\rakes\\Local\\Git_Repo\\PythonCodeHub\\EDA\\Data\\Play_Tennis.csv\n"
     ]
    }
   ],
   "source": [
    "file_path = os.path.dirname(os.getcwd())+\"\\Data\\Play_Tennis.csv\"\n",
    "print(f\"file_path : {file_path}\")"
   ]
  },
  {
   "cell_type": "code",
   "execution_count": 12,
   "metadata": {},
   "outputs": [
    {
     "name": "stdout",
     "output_type": "stream",
     "text": [
      "Data Imported !!!\n"
     ]
    }
   ],
   "source": [
    "dateParse = lambda x: datetime.strptime(x, \"%Y-%m-%d %H:%M:%S\") # %Y-%m-%d %H:%M:%S.%f\n",
    "df = pd.read_csv(file_path,\n",
    "                parse_dates=[\"DateTime\",\"EndDateTime\"],\n",
    "                date_parser=dateParse,\n",
    "                sep=\",\",\n",
    "                header=0\n",
    "                )\n",
    "\n",
    "print(\"Data Imported !!!\")"
   ]
  },
  {
   "cell_type": "code",
   "execution_count": 13,
   "metadata": {},
   "outputs": [
    {
     "name": "stdout",
     "output_type": "stream",
     "text": [
      "<class 'pandas.core.frame.DataFrame'>\n",
      "RangeIndex: 14 entries, 0 to 13\n",
      "Data columns (total 11 columns):\n",
      " #   Column         Non-Null Count  Dtype         \n",
      "---  ------         --------------  -----         \n",
      " 0   Day            14 non-null     object        \n",
      " 1   Outlook        14 non-null     object        \n",
      " 2   Temprature     14 non-null     object        \n",
      " 3   Humidity       14 non-null     object        \n",
      " 4   Wind           14 non-null     object        \n",
      " 5   Play_Tennis    14 non-null     object        \n",
      " 6   No_of_Players  14 non-null     int64         \n",
      " 7   Ticket_Price   14 non-null     float64       \n",
      " 8   DateTime       14 non-null     datetime64[ns]\n",
      " 9   EndDateTime    14 non-null     datetime64[ns]\n",
      " 10  IceCreamCost   14 non-null     float64       \n",
      "dtypes: datetime64[ns](2), float64(2), int64(1), object(6)\n",
      "memory usage: 1.3+ KB\n"
     ]
    }
   ],
   "source": [
    "df.info()"
   ]
  },
  {
   "cell_type": "code",
   "execution_count": 14,
   "metadata": {},
   "outputs": [
    {
     "data": {
      "text/html": [
       "<table border=\"1\" class=\"dataframe\">\n",
       "  <thead>\n",
       "    <tr style=\"text-align: right;\">\n",
       "      <th></th>\n",
       "      <th>Day</th>\n",
       "      <th>Outlook</th>\n",
       "      <th>Temprature</th>\n",
       "      <th>Humidity</th>\n",
       "      <th>Wind</th>\n",
       "      <th>Play_Tennis</th>\n",
       "      <th>No_of_Players</th>\n",
       "      <th>Ticket_Price</th>\n",
       "      <th>DateTime</th>\n",
       "      <th>EndDateTime</th>\n",
       "      <th>IceCreamCost</th>\n",
       "    </tr>\n",
       "  </thead>\n",
       "  <tbody>\n",
       "    <tr>\n",
       "      <th>0</th>\n",
       "      <td>D1</td>\n",
       "      <td>Sunny</td>\n",
       "      <td>Hot</td>\n",
       "      <td>High</td>\n",
       "      <td>Weak</td>\n",
       "      <td>No</td>\n",
       "      <td>6</td>\n",
       "      <td>10.6</td>\n",
       "      <td>2023-01-01 01:10:10</td>\n",
       "      <td>2023-01-01 03:10:10</td>\n",
       "      <td>0.2</td>\n",
       "    </tr>\n",
       "    <tr>\n",
       "      <th>1</th>\n",
       "      <td>D2</td>\n",
       "      <td>Sunny</td>\n",
       "      <td>Hot</td>\n",
       "      <td>High</td>\n",
       "      <td>Strong</td>\n",
       "      <td>No</td>\n",
       "      <td>10</td>\n",
       "      <td>12.3</td>\n",
       "      <td>2023-01-02 02:30:10</td>\n",
       "      <td>2023-01-02 04:30:10</td>\n",
       "      <td>0.4</td>\n",
       "    </tr>\n",
       "  </tbody>\n",
       "</table>"
      ],
      "text/plain": [
       "<IPython.core.display.HTML object>"
      ]
     },
     "metadata": {},
     "output_type": "display_data"
    },
    {
     "name": "stdout",
     "output_type": "stream",
     "text": [
      "  Day Outlook Temprature Humidity    Wind Play_Tennis  No_of_Players  \\\n",
      "0  D1   Sunny        Hot     High    Weak          No              6   \n",
      "1  D2   Sunny        Hot     High  Strong          No             10   \n",
      "\n",
      "   Ticket_Price            DateTime         EndDateTime  IceCreamCost  \n",
      "0          10.6 2023-01-01 01:10:10 2023-01-01 03:10:10           0.2  \n",
      "1          12.3 2023-01-02 02:30:10 2023-01-02 04:30:10           0.4  \n"
     ]
    }
   ],
   "source": [
    "display(HTML(df.head(2).to_html()))\n",
    "print(df.head(2))"
   ]
  },
  {
   "cell_type": "code",
   "execution_count": 8,
   "metadata": {},
   "outputs": [],
   "source": [
    "#def calc_avg(x):\n",
    "#            rmse = round(np.sqrt(np.average(x['DurationSeconds'], x['{0}_{1}__Predictions'.format(package, model)])),2)\n",
    "#            return pd.Series(dict(rmse = rmse))\n",
    "\n",
    "#def calc_sum(x):\n",
    "#    sum_ = "
   ]
  },
  {
   "cell_type": "markdown",
   "metadata": {},
   "source": [
    "### EDA"
   ]
  },
  {
   "cell_type": "code",
   "execution_count": 16,
   "metadata": {},
   "outputs": [
    {
     "data": {
      "text/html": [
       "<div>\n",
       "<style scoped>\n",
       "    .dataframe tbody tr th:only-of-type {\n",
       "        vertical-align: middle;\n",
       "    }\n",
       "\n",
       "    .dataframe tbody tr th {\n",
       "        vertical-align: top;\n",
       "    }\n",
       "\n",
       "    .dataframe thead th {\n",
       "        text-align: right;\n",
       "    }\n",
       "</style>\n",
       "<table border=\"1\" class=\"dataframe\">\n",
       "  <thead>\n",
       "    <tr style=\"text-align: right;\">\n",
       "      <th></th>\n",
       "      <th>Outlook</th>\n",
       "      <th>Ticket_Price</th>\n",
       "    </tr>\n",
       "  </thead>\n",
       "  <tbody>\n",
       "    <tr>\n",
       "      <th>0</th>\n",
       "      <td>Overcast</td>\n",
       "      <td>179.61</td>\n",
       "    </tr>\n",
       "    <tr>\n",
       "      <th>1</th>\n",
       "      <td>Rain</td>\n",
       "      <td>170.45</td>\n",
       "    </tr>\n",
       "    <tr>\n",
       "      <th>2</th>\n",
       "      <td>Sunny</td>\n",
       "      <td>57.44</td>\n",
       "    </tr>\n",
       "  </tbody>\n",
       "</table>\n",
       "</div>"
      ],
      "text/plain": [
       "    Outlook  Ticket_Price\n",
       "0  Overcast        179.61\n",
       "1      Rain        170.45\n",
       "2     Sunny         57.44"
      ]
     },
     "execution_count": 16,
     "metadata": {},
     "output_type": "execute_result"
    }
   ],
   "source": [
    "# df_aggr = df.groupby(\"Outlook\").apply(\"Ticket_Price\").reset_index()\n",
    "df_aggr = df.groupby(\"Outlook\")[\"Ticket_Price\"].sum().reset_index()\n",
    "df_aggr.columns = [\"Outlook\", \"Ticket_Price\"]\n",
    "df_aggr"
   ]
  },
  {
   "cell_type": "code",
   "execution_count": null,
   "metadata": {},
   "outputs": [],
   "source": [
    "# Plotting\n",
    "plt.style.use('seaborn-v0_8-darkgrid')\n",
    "\n",
    "fig, axes = plt.subplots(nrows=1, ncols=1, figsize=(15,4))\n",
    "\n",
    "x = df_aggr[\"Outlook\"].unique().tolist()\n",
    "y = df_aggr[\"Ticket_Price\"]\n",
    "width = 0.75 # the width of the bars\n",
    "\n",
    "ind = np.arange(len(y))  # the x locations for the groups\n",
    "axes.barh(ind, y, width, color=\"steelblue\")\n",
    "\n",
    "for i, v in enumerate(y):\n",
    "    axes.text(v + 1, i + .02, str(round(v,2)), color='red', fontsize=11)\n",
    "\n",
    "axes.set_yticks(ind+width/2)\n",
    "axes.set_yticklabels(x, minor=False)\n",
    "axes.set_title(\"Ticket Price Overview{}\".format(\"\"), size=14, color=\"teal\")\n",
    "axes.set_xlabel(\"Ticket_Price\")\n",
    "axes.set_ylabel(\"{0}\".format(\"Outlook\"))\n",
    "\n",
    "plt.show()"
   ]
  },
  {
   "cell_type": "code",
   "execution_count": 22,
   "metadata": {},
   "outputs": [
    {
     "data": {
      "text/html": [
       "<table border=\"1\" class=\"dataframe\">\n",
       "  <thead>\n",
       "    <tr style=\"text-align: right;\">\n",
       "      <th></th>\n",
       "      <th>Day</th>\n",
       "      <th>Outlook</th>\n",
       "      <th>Temprature</th>\n",
       "      <th>Humidity</th>\n",
       "      <th>Wind</th>\n",
       "      <th>Play_Tennis</th>\n",
       "      <th>No_of_Players</th>\n",
       "      <th>Ticket_Price</th>\n",
       "      <th>DateTime</th>\n",
       "      <th>EndDateTime</th>\n",
       "      <th>IceCreamCost</th>\n",
       "    </tr>\n",
       "  </thead>\n",
       "  <tbody>\n",
       "    <tr>\n",
       "      <th>0</th>\n",
       "      <td>D1</td>\n",
       "      <td>Sunny</td>\n",
       "      <td>Hot</td>\n",
       "      <td>High</td>\n",
       "      <td>Weak</td>\n",
       "      <td>No</td>\n",
       "      <td>6</td>\n",
       "      <td>10.6</td>\n",
       "      <td>2023-01-01 01:10:10</td>\n",
       "      <td>2023-01-01 03:10:10</td>\n",
       "      <td>0.2</td>\n",
       "    </tr>\n",
       "    <tr>\n",
       "      <th>1</th>\n",
       "      <td>D2</td>\n",
       "      <td>Sunny</td>\n",
       "      <td>Hot</td>\n",
       "      <td>High</td>\n",
       "      <td>Strong</td>\n",
       "      <td>No</td>\n",
       "      <td>10</td>\n",
       "      <td>12.3</td>\n",
       "      <td>2023-01-02 02:30:10</td>\n",
       "      <td>2023-01-02 04:30:10</td>\n",
       "      <td>0.4</td>\n",
       "    </tr>\n",
       "  </tbody>\n",
       "</table>"
      ],
      "text/plain": [
       "<IPython.core.display.HTML object>"
      ]
     },
     "metadata": {},
     "output_type": "display_data"
    },
    {
     "name": "stdout",
     "output_type": "stream",
     "text": [
      "  Day Outlook Temprature Humidity    Wind Play_Tennis  No_of_Players  \\\n",
      "0  D1   Sunny        Hot     High    Weak          No              6   \n",
      "1  D2   Sunny        Hot     High  Strong          No             10   \n",
      "\n",
      "   Ticket_Price            DateTime         EndDateTime  IceCreamCost  \n",
      "0          10.6 2023-01-01 01:10:10 2023-01-01 03:10:10           0.2  \n",
      "1          12.3 2023-01-02 02:30:10 2023-01-02 04:30:10           0.4  \n"
     ]
    }
   ],
   "source": [
    "display(HTML(df.head(2).to_html()))\n",
    "print(df.head(2))"
   ]
  },
  {
   "cell_type": "code",
   "execution_count": null,
   "metadata": {},
   "outputs": [],
   "source": [
    "plt.style.use('seaborn-v0_8-darkgrid')\n",
    "\n",
    "fig = plt.figure(figsize=(15,6))\n",
    "\n",
    "gs = fig.add_gridspec(2,2)\n",
    "\n",
    "ax1 = fig.add_subplot(gs[0, 0])\n",
    "ax1.scatter(df.DateTime.tolist(), df[\"Ticket_Price\"].tolist(), marker=\"o\", color=\"royalblue\")\n",
    "ax1.set_ylabel(\"DateTime\", size=12)\n",
    "ax1.set_xlabel(\"Ticket_Price\", size=12)\n",
    "ax1.set_title(\"{0}\".format(\"Ticket Price\"), size=14, color=\"indigo\")\n",
    "\n",
    "ax2 = fig.add_subplot(gs[0, 1])\n",
    "ax2.scatter(df.DateTime.tolist(), df[\"Ticket_Price\"].tolist(), marker=\"o\", color=\"royalblue\")\n",
    "ax2.plot(df.DateTime.tolist(), df[\"Ticket_Price\"].tolist(), label=\"Ticket_Price\", color=\"firebrick\")\n",
    "ax2.set_title(\"{0}\".format(\"Ticket Price\"), size=14, color=\"indigo\")\n",
    "\n",
    "ax3 = fig.add_subplot(gs[1, :])\n",
    "ax3.plot(df.No_of_Players.tolist(),marker='o',linestyle='',color=\"firebrick\")\n",
    "ax3.set_ylabel(\"{0}\".format(\"No_of_Players\"), size=12)\n",
    "#ax3.set_xlabel(\"{0}\".format(\"No_of_Players\"), size=12)\n",
    "ax3.set_title(\"{0}\".format(\"No of Players\"), size=14, color=\"indigo\")\n",
    "\n",
    "plt.tight_layout()\n",
    "plt.show()"
   ]
  },
  {
   "cell_type": "code",
   "execution_count": null,
   "metadata": {},
   "outputs": [],
   "source": [
    "plt.clf()\n",
    "# Set Plot Theme \n",
    "\n",
    "plt.style.use('seaborn-v0_8-darkgrid')    \n",
    "\n",
    "fig, axes = plt.subplots(nrows=2, ncols=1, sharex=False, figsize=(10,6)) \n",
    "# sns.lineplot(x=\"DateTime\", y=\"Ticket_Price\", data=df, ax=axes[0][0], color='orange', linewidth=2, alpha=0.50, label=\"Ticket_Price\") \n",
    "sns.lineplot(x=\"DateTime\", y=\"Ticket_Price\", data=df, ax=axes[0], color='orange', linewidth=2, alpha=0.50, label=\"Ticket_Price\") \n",
    "# axes[0][0].legend(bbox_to_anchor=(1, 1.4),fancybox=True, shadow=True, ncol=5, loc='upper right')\n",
    "axes[0].legend(bbox_to_anchor=(1, 1.4),fancybox=True, shadow=True, ncol=5, loc='upper right')\n",
    "\n",
    "# sns.lineplot(x=\"DateTime\", y=\"No_of_Players\", data=df, ax=axes[1][0], color='Green', linewidth=2, alpha=0.50, label=\"No_of_Players\") \n",
    "sns.lineplot(x=\"DateTime\", y=\"No_of_Players\", data=df, ax=axes[1], color='Green', linewidth=2, alpha=0.50, label=\"No_of_Players\") \n",
    "# axes[1][0].legend(bbox_to_anchor=(1, 1.4),fancybox=True, shadow=True, ncol=5, loc='upper right')\n",
    "axes[1].legend(bbox_to_anchor=(1, 1.4),fancybox=True, shadow=True, ncol=5, loc='upper right')\n",
    "\n",
    "plt.suptitle(f\"Ticket Price & No of Players Overview\", size=16, color=\"#A52A2A\")\n",
    "plt.tight_layout()\n",
    "plt.show()    "
   ]
  },
  {
   "cell_type": "code",
   "execution_count": null,
   "metadata": {},
   "outputs": [],
   "source": [
    "plt.clf()\n",
    "plt.style.use(\"seaborn-v0_8-darkgrid\")\n",
    "fig, axes = plt.subplots(nrows=1, ncols=1, sharex=True, figsize=(12,4))\n",
    "sns.lineplot(x=\"DateTime\", y=\"Ticket_Price\", \n",
    "                data=df, ax=axes, color='steelblue', \n",
    "                linewidth=2, alpha=0.50, \n",
    "                label=\"Ticket_Price\", #markers=\"o\",\n",
    "                marker='o', markerfacecolor='orange', markersize=10\n",
    "                )\n",
    "axes.set_title(\"Ticket Price Overview\", size=12, color=\"black\")\n",
    "# Preparing Legend Panel\n",
    "axes.legend(bbox_to_anchor=(1, 1.08),fancybox=True, shadow=True, ncol=5, loc='upper right', prop={'size':10})\n",
    "plt.xticks(fontsize=8)   # set sparse xtick values\n",
    "plt.yticks(fontsize=8)   # set sparse ytick values\n",
    "plt.xlabel('timestamp', fontsize=10)\n",
    "plt.ylabel('Ticket Price', fontsize=10)\n",
    "# plt.close() \n",
    "plt.show()"
   ]
  }
 ],
 "metadata": {
  "kernelspec": {
   "display_name": "EDA_Env",
   "language": "python",
   "name": "python3"
  },
  "language_info": {
   "codemirror_mode": {
    "name": "ipython",
    "version": 3
   },
   "file_extension": ".py",
   "mimetype": "text/x-python",
   "name": "python",
   "nbconvert_exporter": "python",
   "pygments_lexer": "ipython3",
   "version": "3.12.2"
  },
  "orig_nbformat": 4
 },
 "nbformat": 4,
 "nbformat_minor": 2
}
