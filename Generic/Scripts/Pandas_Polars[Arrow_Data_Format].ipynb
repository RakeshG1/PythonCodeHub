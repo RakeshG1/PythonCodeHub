{
 "cells": [
  {
   "cell_type": "markdown",
   "metadata": {},
   "source": [
    "### Pandas"
   ]
  },
  {
   "cell_type": "code",
   "execution_count": 3,
   "metadata": {},
   "outputs": [],
   "source": [
    "import pandas as pd\n",
    "import os"
   ]
  },
  {
   "cell_type": "code",
   "execution_count": 4,
   "metadata": {},
   "outputs": [
    {
     "data": {
      "text/plain": [
       "'c:\\\\Users\\\\rakes\\\\Local\\\\Git_Repo\\\\PythonCodeHub\\\\EDA\\\\Data\\\\Play_Tennis.csv'"
      ]
     },
     "execution_count": 4,
     "metadata": {},
     "output_type": "execute_result"
    }
   ],
   "source": [
    "file_path = os.path.dirname(os.path.dirname(os.getcwd()))+\"\\\\EDA\\\\Data\\\\Play_Tennis.csv\"\n",
    "file_path"
   ]
  },
  {
   "cell_type": "code",
   "execution_count": 5,
   "metadata": {},
   "outputs": [
    {
     "name": "stdout",
     "output_type": "stream",
     "text": [
      "<class 'pandas.core.frame.DataFrame'>\n",
      "RangeIndex: 14 entries, 0 to 13\n",
      "Data columns (total 11 columns):\n",
      " #   Column         Non-Null Count  Dtype  \n",
      "---  ------         --------------  -----  \n",
      " 0   Day            14 non-null     object \n",
      " 1   Outlook        14 non-null     object \n",
      " 2   Temprature     14 non-null     object \n",
      " 3   Humidity       14 non-null     object \n",
      " 4   Wind           14 non-null     object \n",
      " 5   Play_Tennis    14 non-null     object \n",
      " 6   No_of_Players  14 non-null     int64  \n",
      " 7   Ticket_Price   14 non-null     float64\n",
      " 8   DateTime       14 non-null     object \n",
      " 9   EndDateTime    14 non-null     object \n",
      " 10  IceCreamCost   14 non-null     float64\n",
      "dtypes: float64(2), int64(1), object(8)\n",
      "memory usage: 1.3+ KB\n",
      "None\n"
     ]
    },
    {
     "data": {
      "text/html": [
       "<div>\n",
       "<style scoped>\n",
       "    .dataframe tbody tr th:only-of-type {\n",
       "        vertical-align: middle;\n",
       "    }\n",
       "\n",
       "    .dataframe tbody tr th {\n",
       "        vertical-align: top;\n",
       "    }\n",
       "\n",
       "    .dataframe thead th {\n",
       "        text-align: right;\n",
       "    }\n",
       "</style>\n",
       "<table border=\"1\" class=\"dataframe\">\n",
       "  <thead>\n",
       "    <tr style=\"text-align: right;\">\n",
       "      <th></th>\n",
       "      <th>Day</th>\n",
       "      <th>Outlook</th>\n",
       "      <th>Temprature</th>\n",
       "      <th>Humidity</th>\n",
       "      <th>Wind</th>\n",
       "      <th>Play_Tennis</th>\n",
       "      <th>No_of_Players</th>\n",
       "      <th>Ticket_Price</th>\n",
       "      <th>DateTime</th>\n",
       "      <th>EndDateTime</th>\n",
       "      <th>IceCreamCost</th>\n",
       "    </tr>\n",
       "  </thead>\n",
       "  <tbody>\n",
       "    <tr>\n",
       "      <th>0</th>\n",
       "      <td>D1</td>\n",
       "      <td>Sunny</td>\n",
       "      <td>Hot</td>\n",
       "      <td>High</td>\n",
       "      <td>Weak</td>\n",
       "      <td>No</td>\n",
       "      <td>6</td>\n",
       "      <td>10.60</td>\n",
       "      <td>2023-01-01 01:10:10</td>\n",
       "      <td>2023-01-01 03:10:10</td>\n",
       "      <td>0.2</td>\n",
       "    </tr>\n",
       "    <tr>\n",
       "      <th>1</th>\n",
       "      <td>D2</td>\n",
       "      <td>Sunny</td>\n",
       "      <td>Hot</td>\n",
       "      <td>High</td>\n",
       "      <td>Strong</td>\n",
       "      <td>No</td>\n",
       "      <td>10</td>\n",
       "      <td>12.30</td>\n",
       "      <td>2023-01-02 02:30:10</td>\n",
       "      <td>2023-01-02 04:30:10</td>\n",
       "      <td>0.4</td>\n",
       "    </tr>\n",
       "    <tr>\n",
       "      <th>2</th>\n",
       "      <td>D3</td>\n",
       "      <td>Overcast</td>\n",
       "      <td>Hot</td>\n",
       "      <td>High</td>\n",
       "      <td>Weak</td>\n",
       "      <td>Yes</td>\n",
       "      <td>28</td>\n",
       "      <td>20.60</td>\n",
       "      <td>2023-01-03 03:53:10</td>\n",
       "      <td>2023-01-03 05:53:10</td>\n",
       "      <td>1.0</td>\n",
       "    </tr>\n",
       "    <tr>\n",
       "      <th>3</th>\n",
       "      <td>D4</td>\n",
       "      <td>Rain</td>\n",
       "      <td>Mild</td>\n",
       "      <td>High</td>\n",
       "      <td>Weak</td>\n",
       "      <td>Yes</td>\n",
       "      <td>45</td>\n",
       "      <td>40.30</td>\n",
       "      <td>2023-01-04 01:08:22</td>\n",
       "      <td>2023-01-04 03:08:22</td>\n",
       "      <td>1.4</td>\n",
       "    </tr>\n",
       "    <tr>\n",
       "      <th>4</th>\n",
       "      <td>D5</td>\n",
       "      <td>Rain</td>\n",
       "      <td>Cool</td>\n",
       "      <td>Normal</td>\n",
       "      <td>Weak</td>\n",
       "      <td>Yes</td>\n",
       "      <td>56</td>\n",
       "      <td>60.60</td>\n",
       "      <td>2023-01-05 05:10:14</td>\n",
       "      <td>2023-01-05 07:10:14</td>\n",
       "      <td>1.6</td>\n",
       "    </tr>\n",
       "    <tr>\n",
       "      <th>5</th>\n",
       "      <td>D6</td>\n",
       "      <td>Rain</td>\n",
       "      <td>Cool</td>\n",
       "      <td>Normal</td>\n",
       "      <td>Strong</td>\n",
       "      <td>No</td>\n",
       "      <td>8</td>\n",
       "      <td>8.20</td>\n",
       "      <td>2023-01-06 08:22:10</td>\n",
       "      <td>2023-01-06 10:22:10</td>\n",
       "      <td>0.3</td>\n",
       "    </tr>\n",
       "    <tr>\n",
       "      <th>6</th>\n",
       "      <td>D7</td>\n",
       "      <td>Overcast</td>\n",
       "      <td>Cool</td>\n",
       "      <td>Normal</td>\n",
       "      <td>Strong</td>\n",
       "      <td>Yes</td>\n",
       "      <td>56</td>\n",
       "      <td>60.23</td>\n",
       "      <td>2023-01-06 14:25:18</td>\n",
       "      <td>2023-01-06 16:25:18</td>\n",
       "      <td>1.7</td>\n",
       "    </tr>\n",
       "    <tr>\n",
       "      <th>7</th>\n",
       "      <td>D8</td>\n",
       "      <td>Sunny</td>\n",
       "      <td>Mild</td>\n",
       "      <td>High</td>\n",
       "      <td>Weak</td>\n",
       "      <td>No</td>\n",
       "      <td>12</td>\n",
       "      <td>5.23</td>\n",
       "      <td>2023-01-07 20:10:10</td>\n",
       "      <td>2023-01-07 22:10:10</td>\n",
       "      <td>0.5</td>\n",
       "    </tr>\n",
       "    <tr>\n",
       "      <th>8</th>\n",
       "      <td>D9</td>\n",
       "      <td>Sunny</td>\n",
       "      <td>Cool</td>\n",
       "      <td>Normal</td>\n",
       "      <td>Weak</td>\n",
       "      <td>Yes</td>\n",
       "      <td>23</td>\n",
       "      <td>20.56</td>\n",
       "      <td>2023-01-08 02:35:22</td>\n",
       "      <td>2023-01-08 05:35:22</td>\n",
       "      <td>0.7</td>\n",
       "    </tr>\n",
       "    <tr>\n",
       "      <th>9</th>\n",
       "      <td>D10</td>\n",
       "      <td>Rain</td>\n",
       "      <td>Mild</td>\n",
       "      <td>Normal</td>\n",
       "      <td>Weak</td>\n",
       "      <td>Yes</td>\n",
       "      <td>56</td>\n",
       "      <td>60.23</td>\n",
       "      <td>2023-01-09 10:10:20</td>\n",
       "      <td>2023-01-09 12:10:20</td>\n",
       "      <td>1.8</td>\n",
       "    </tr>\n",
       "    <tr>\n",
       "      <th>10</th>\n",
       "      <td>D11</td>\n",
       "      <td>Sunny</td>\n",
       "      <td>Mild</td>\n",
       "      <td>Normal</td>\n",
       "      <td>Strong</td>\n",
       "      <td>Yes</td>\n",
       "      <td>12</td>\n",
       "      <td>8.75</td>\n",
       "      <td>2023-01-10 16:12:24</td>\n",
       "      <td>2023-01-10 18:12:24</td>\n",
       "      <td>0.6</td>\n",
       "    </tr>\n",
       "    <tr>\n",
       "      <th>11</th>\n",
       "      <td>D12</td>\n",
       "      <td>Overcast</td>\n",
       "      <td>Mild</td>\n",
       "      <td>High</td>\n",
       "      <td>Strong</td>\n",
       "      <td>Yes</td>\n",
       "      <td>67</td>\n",
       "      <td>60.23</td>\n",
       "      <td>2023-01-11 20:10:28</td>\n",
       "      <td>2023-01-11 23:10:28</td>\n",
       "      <td>2.0</td>\n",
       "    </tr>\n",
       "    <tr>\n",
       "      <th>12</th>\n",
       "      <td>D13</td>\n",
       "      <td>Overcast</td>\n",
       "      <td>Hot</td>\n",
       "      <td>Normal</td>\n",
       "      <td>Weak</td>\n",
       "      <td>Yes</td>\n",
       "      <td>45</td>\n",
       "      <td>38.55</td>\n",
       "      <td>2023-01-12 21:47:10</td>\n",
       "      <td>2023-01-12 22:47:10</td>\n",
       "      <td>1.4</td>\n",
       "    </tr>\n",
       "    <tr>\n",
       "      <th>13</th>\n",
       "      <td>D14</td>\n",
       "      <td>Rain</td>\n",
       "      <td>Mild</td>\n",
       "      <td>High</td>\n",
       "      <td>Strong</td>\n",
       "      <td>No</td>\n",
       "      <td>2</td>\n",
       "      <td>1.12</td>\n",
       "      <td>2023-01-13 13:10:13</td>\n",
       "      <td>2023-01-13 14:10:13</td>\n",
       "      <td>0.2</td>\n",
       "    </tr>\n",
       "  </tbody>\n",
       "</table>\n",
       "</div>"
      ],
      "text/plain": [
       "    Day   Outlook Temprature Humidity    Wind Play_Tennis  No_of_Players  \\\n",
       "0    D1     Sunny        Hot     High    Weak          No              6   \n",
       "1    D2     Sunny        Hot     High  Strong          No             10   \n",
       "2    D3  Overcast        Hot     High    Weak         Yes             28   \n",
       "3    D4      Rain       Mild     High    Weak         Yes             45   \n",
       "4    D5      Rain       Cool   Normal    Weak         Yes             56   \n",
       "5    D6      Rain       Cool   Normal  Strong          No              8   \n",
       "6    D7  Overcast       Cool   Normal  Strong         Yes             56   \n",
       "7    D8     Sunny       Mild     High    Weak          No             12   \n",
       "8    D9     Sunny       Cool   Normal    Weak         Yes             23   \n",
       "9   D10      Rain       Mild   Normal    Weak         Yes             56   \n",
       "10  D11     Sunny       Mild   Normal  Strong         Yes             12   \n",
       "11  D12  Overcast       Mild     High  Strong         Yes             67   \n",
       "12  D13  Overcast        Hot   Normal    Weak         Yes             45   \n",
       "13  D14      Rain       Mild     High  Strong          No              2   \n",
       "\n",
       "    Ticket_Price             DateTime          EndDateTime  IceCreamCost  \n",
       "0          10.60  2023-01-01 01:10:10  2023-01-01 03:10:10           0.2  \n",
       "1          12.30  2023-01-02 02:30:10  2023-01-02 04:30:10           0.4  \n",
       "2          20.60  2023-01-03 03:53:10  2023-01-03 05:53:10           1.0  \n",
       "3          40.30  2023-01-04 01:08:22  2023-01-04 03:08:22           1.4  \n",
       "4          60.60  2023-01-05 05:10:14  2023-01-05 07:10:14           1.6  \n",
       "5           8.20  2023-01-06 08:22:10  2023-01-06 10:22:10           0.3  \n",
       "6          60.23  2023-01-06 14:25:18  2023-01-06 16:25:18           1.7  \n",
       "7           5.23  2023-01-07 20:10:10  2023-01-07 22:10:10           0.5  \n",
       "8          20.56  2023-01-08 02:35:22  2023-01-08 05:35:22           0.7  \n",
       "9          60.23  2023-01-09 10:10:20  2023-01-09 12:10:20           1.8  \n",
       "10          8.75  2023-01-10 16:12:24  2023-01-10 18:12:24           0.6  \n",
       "11         60.23  2023-01-11 20:10:28  2023-01-11 23:10:28           2.0  \n",
       "12         38.55  2023-01-12 21:47:10  2023-01-12 22:47:10           1.4  \n",
       "13          1.12  2023-01-13 13:10:13  2023-01-13 14:10:13           0.2  "
      ]
     },
     "execution_count": 5,
     "metadata": {},
     "output_type": "execute_result"
    }
   ],
   "source": [
    "# Load Data\n",
    "df = pd.read_csv(file_path)\n",
    "\n",
    "print(df.info())\n",
    "df"
   ]
  },
  {
   "cell_type": "code",
   "execution_count": 6,
   "metadata": {},
   "outputs": [
    {
     "name": "stdout",
     "output_type": "stream",
     "text": [
      "  Day Play_Tennis\n",
      "0  D1          No\n",
      "1  D2          No\n"
     ]
    },
    {
     "data": {
      "text/plain": [
       "Outlook\n",
       "Overcast    44.9025\n",
       "Rain        34.0900\n",
       "Sunny       11.4880\n",
       "Name: Ticket_Price, dtype: float64"
      ]
     },
     "execution_count": 6,
     "metadata": {},
     "output_type": "execute_result"
    }
   ],
   "source": [
    "# Filter & Select Columns\n",
    "df_temp = df[df[\"Day\"].isin([\"D1\", \"D2\"])][[\"Day\",\"Play_Tennis\"]]\n",
    "print(df_temp)\n",
    "\n",
    "# Group by Mean\n",
    "df_temp = df.groupby([\"Outlook\"])[\"Ticket_Price\"].mean()\n",
    "df_temp"
   ]
  },
  {
   "cell_type": "markdown",
   "metadata": {},
   "source": [
    "<!--  -->"
   ]
  },
  {
   "cell_type": "markdown",
   "metadata": {},
   "source": [
    "### Polars"
   ]
  },
  {
   "cell_type": "code",
   "execution_count": 7,
   "metadata": {},
   "outputs": [],
   "source": [
    "import polars as pl\n",
    "import pyarrow as pa\n",
    "import pyarrow.parquet as pq"
   ]
  },
  {
   "cell_type": "code",
   "execution_count": 8,
   "metadata": {},
   "outputs": [
    {
     "data": {
      "text/html": [
       "<div><style>\n",
       ".dataframe > thead > tr,\n",
       ".dataframe > tbody > tr {\n",
       "  text-align: right;\n",
       "  white-space: pre-wrap;\n",
       "}\n",
       "</style>\n",
       "<small>shape: (14, 11)</small><table border=\"1\" class=\"dataframe\"><thead><tr><th>Day</th><th>Outlook</th><th>Temprature</th><th>Humidity</th><th>Wind</th><th>Play_Tennis</th><th>No_of_Players</th><th>Ticket_Price</th><th>DateTime</th><th>EndDateTime</th><th>IceCreamCost</th></tr><tr><td>str</td><td>str</td><td>str</td><td>str</td><td>str</td><td>str</td><td>i64</td><td>f64</td><td>str</td><td>str</td><td>f64</td></tr></thead><tbody><tr><td>&quot;D1&quot;</td><td>&quot;Sunny&quot;</td><td>&quot;Hot&quot;</td><td>&quot;High&quot;</td><td>&quot;Weak&quot;</td><td>&quot;No&quot;</td><td>6</td><td>10.6</td><td>&quot;2023-01-01 01:10:10&quot;</td><td>&quot;2023-01-01 03:10:10&quot;</td><td>0.2</td></tr><tr><td>&quot;D2&quot;</td><td>&quot;Sunny&quot;</td><td>&quot;Hot&quot;</td><td>&quot;High&quot;</td><td>&quot;Strong&quot;</td><td>&quot;No&quot;</td><td>10</td><td>12.3</td><td>&quot;2023-01-02 02:30:10&quot;</td><td>&quot;2023-01-02 04:30:10&quot;</td><td>0.4</td></tr><tr><td>&quot;D3&quot;</td><td>&quot;Overcast&quot;</td><td>&quot;Hot&quot;</td><td>&quot;High&quot;</td><td>&quot;Weak&quot;</td><td>&quot;Yes&quot;</td><td>28</td><td>20.6</td><td>&quot;2023-01-03 03:53:10&quot;</td><td>&quot;2023-01-03 05:53:10&quot;</td><td>1.0</td></tr><tr><td>&quot;D4&quot;</td><td>&quot;Rain&quot;</td><td>&quot;Mild&quot;</td><td>&quot;High&quot;</td><td>&quot;Weak&quot;</td><td>&quot;Yes&quot;</td><td>45</td><td>40.3</td><td>&quot;2023-01-04 01:08:22&quot;</td><td>&quot;2023-01-04 03:08:22&quot;</td><td>1.4</td></tr><tr><td>&quot;D5&quot;</td><td>&quot;Rain&quot;</td><td>&quot;Cool&quot;</td><td>&quot;Normal&quot;</td><td>&quot;Weak&quot;</td><td>&quot;Yes&quot;</td><td>56</td><td>60.6</td><td>&quot;2023-01-05 05:10:14&quot;</td><td>&quot;2023-01-05 07:10:14&quot;</td><td>1.6</td></tr><tr><td>&hellip;</td><td>&hellip;</td><td>&hellip;</td><td>&hellip;</td><td>&hellip;</td><td>&hellip;</td><td>&hellip;</td><td>&hellip;</td><td>&hellip;</td><td>&hellip;</td><td>&hellip;</td></tr><tr><td>&quot;D10&quot;</td><td>&quot;Rain&quot;</td><td>&quot;Mild&quot;</td><td>&quot;Normal&quot;</td><td>&quot;Weak&quot;</td><td>&quot;Yes&quot;</td><td>56</td><td>60.23</td><td>&quot;2023-01-09 10:10:20&quot;</td><td>&quot;2023-01-09 12:10:20&quot;</td><td>1.8</td></tr><tr><td>&quot;D11&quot;</td><td>&quot;Sunny&quot;</td><td>&quot;Mild&quot;</td><td>&quot;Normal&quot;</td><td>&quot;Strong&quot;</td><td>&quot;Yes&quot;</td><td>12</td><td>8.75</td><td>&quot;2023-01-10 16:12:24&quot;</td><td>&quot;2023-01-10 18:12:24&quot;</td><td>0.6</td></tr><tr><td>&quot;D12&quot;</td><td>&quot;Overcast&quot;</td><td>&quot;Mild&quot;</td><td>&quot;High&quot;</td><td>&quot;Strong&quot;</td><td>&quot;Yes&quot;</td><td>67</td><td>60.23</td><td>&quot;2023-01-11 20:10:28&quot;</td><td>&quot;2023-01-11 23:10:28&quot;</td><td>2.0</td></tr><tr><td>&quot;D13&quot;</td><td>&quot;Overcast&quot;</td><td>&quot;Hot&quot;</td><td>&quot;Normal&quot;</td><td>&quot;Weak&quot;</td><td>&quot;Yes&quot;</td><td>45</td><td>38.55</td><td>&quot;2023-01-12 21:47:10&quot;</td><td>&quot;2023-01-12 22:47:10&quot;</td><td>1.4</td></tr><tr><td>&quot;D14&quot;</td><td>&quot;Rain&quot;</td><td>&quot;Mild&quot;</td><td>&quot;High&quot;</td><td>&quot;Strong&quot;</td><td>&quot;No&quot;</td><td>2</td><td>1.12</td><td>&quot;2023-01-13 13:10:13&quot;</td><td>&quot;2023-01-13 14:10:13&quot;</td><td>0.2</td></tr></tbody></table></div>"
      ],
      "text/plain": [
       "shape: (14, 11)\n",
       "┌─────┬──────────┬────────────┬──────────┬───┬─────────────┬─────────────┬────────────┬────────────┐\n",
       "│ Day ┆ Outlook  ┆ Temprature ┆ Humidity ┆ … ┆ Ticket_Pric ┆ DateTime    ┆ EndDateTim ┆ IceCreamCo │\n",
       "│ --- ┆ ---      ┆ ---        ┆ ---      ┆   ┆ e           ┆ ---         ┆ e          ┆ st         │\n",
       "│ str ┆ str      ┆ str        ┆ str      ┆   ┆ ---         ┆ str         ┆ ---        ┆ ---        │\n",
       "│     ┆          ┆            ┆          ┆   ┆ f64         ┆             ┆ str        ┆ f64        │\n",
       "╞═════╪══════════╪════════════╪══════════╪═══╪═════════════╪═════════════╪════════════╪════════════╡\n",
       "│ D1  ┆ Sunny    ┆ Hot        ┆ High     ┆ … ┆ 10.6        ┆ 2023-01-01  ┆ 2023-01-01 ┆ 0.2        │\n",
       "│     ┆          ┆            ┆          ┆   ┆             ┆ 01:10:10    ┆ 03:10:10   ┆            │\n",
       "│ D2  ┆ Sunny    ┆ Hot        ┆ High     ┆ … ┆ 12.3        ┆ 2023-01-02  ┆ 2023-01-02 ┆ 0.4        │\n",
       "│     ┆          ┆            ┆          ┆   ┆             ┆ 02:30:10    ┆ 04:30:10   ┆            │\n",
       "│ D3  ┆ Overcast ┆ Hot        ┆ High     ┆ … ┆ 20.6        ┆ 2023-01-03  ┆ 2023-01-03 ┆ 1.0        │\n",
       "│     ┆          ┆            ┆          ┆   ┆             ┆ 03:53:10    ┆ 05:53:10   ┆            │\n",
       "│ D4  ┆ Rain     ┆ Mild       ┆ High     ┆ … ┆ 40.3        ┆ 2023-01-04  ┆ 2023-01-04 ┆ 1.4        │\n",
       "│     ┆          ┆            ┆          ┆   ┆             ┆ 01:08:22    ┆ 03:08:22   ┆            │\n",
       "│ D5  ┆ Rain     ┆ Cool       ┆ Normal   ┆ … ┆ 60.6        ┆ 2023-01-05  ┆ 2023-01-05 ┆ 1.6        │\n",
       "│     ┆          ┆            ┆          ┆   ┆             ┆ 05:10:14    ┆ 07:10:14   ┆            │\n",
       "│ …   ┆ …        ┆ …          ┆ …        ┆ … ┆ …           ┆ …           ┆ …          ┆ …          │\n",
       "│ D10 ┆ Rain     ┆ Mild       ┆ Normal   ┆ … ┆ 60.23       ┆ 2023-01-09  ┆ 2023-01-09 ┆ 1.8        │\n",
       "│     ┆          ┆            ┆          ┆   ┆             ┆ 10:10:20    ┆ 12:10:20   ┆            │\n",
       "│ D11 ┆ Sunny    ┆ Mild       ┆ Normal   ┆ … ┆ 8.75        ┆ 2023-01-10  ┆ 2023-01-10 ┆ 0.6        │\n",
       "│     ┆          ┆            ┆          ┆   ┆             ┆ 16:12:24    ┆ 18:12:24   ┆            │\n",
       "│ D12 ┆ Overcast ┆ Mild       ┆ High     ┆ … ┆ 60.23       ┆ 2023-01-11  ┆ 2023-01-11 ┆ 2.0        │\n",
       "│     ┆          ┆            ┆          ┆   ┆             ┆ 20:10:28    ┆ 23:10:28   ┆            │\n",
       "│ D13 ┆ Overcast ┆ Hot        ┆ Normal   ┆ … ┆ 38.55       ┆ 2023-01-12  ┆ 2023-01-12 ┆ 1.4        │\n",
       "│     ┆          ┆            ┆          ┆   ┆             ┆ 21:47:10    ┆ 22:47:10   ┆            │\n",
       "│ D14 ┆ Rain     ┆ Mild       ┆ High     ┆ … ┆ 1.12        ┆ 2023-01-13  ┆ 2023-01-13 ┆ 0.2        │\n",
       "│     ┆          ┆            ┆          ┆   ┆             ┆ 13:10:13    ┆ 14:10:13   ┆            │\n",
       "└─────┴──────────┴────────────┴──────────┴───┴─────────────┴─────────────┴────────────┴────────────┘"
      ]
     },
     "execution_count": 8,
     "metadata": {},
     "output_type": "execute_result"
    }
   ],
   "source": [
    "df = pl.read_csv(file_path)\n",
    "df"
   ]
  },
  {
   "cell_type": "code",
   "execution_count": 9,
   "metadata": {},
   "outputs": [
    {
     "name": "stdout",
     "output_type": "stream",
     "text": [
      "shape: (1, 2)\n",
      "┌─────┬─────────────┐\n",
      "│ Day ┆ Play_Tennis │\n",
      "│ --- ┆ ---         │\n",
      "│ str ┆ str         │\n",
      "╞═════╪═════════════╡\n",
      "│ D1  ┆ No          │\n",
      "└─────┴─────────────┘\n"
     ]
    },
    {
     "name": "stderr",
     "output_type": "stream",
     "text": [
      "C:\\Users\\rakes\\AppData\\Local\\Temp\\ipykernel_3964\\4274585.py:7: DeprecationWarning: `groupby` is deprecated. It has been renamed to `group_by`.\n",
      "  df_temp = df.groupby(\"Outlook\").agg(pl.col(\"Ticket_Price\").mean())\n"
     ]
    },
    {
     "data": {
      "text/html": [
       "<div><style>\n",
       ".dataframe > thead > tr,\n",
       ".dataframe > tbody > tr {\n",
       "  text-align: right;\n",
       "  white-space: pre-wrap;\n",
       "}\n",
       "</style>\n",
       "<small>shape: (3, 2)</small><table border=\"1\" class=\"dataframe\"><thead><tr><th>Outlook</th><th>Ticket_Price</th></tr><tr><td>str</td><td>f64</td></tr></thead><tbody><tr><td>&quot;Sunny&quot;</td><td>11.488</td></tr><tr><td>&quot;Rain&quot;</td><td>34.09</td></tr><tr><td>&quot;Overcast&quot;</td><td>44.9025</td></tr></tbody></table></div>"
      ],
      "text/plain": [
       "shape: (3, 2)\n",
       "┌──────────┬──────────────┐\n",
       "│ Outlook  ┆ Ticket_Price │\n",
       "│ ---      ┆ ---          │\n",
       "│ str      ┆ f64          │\n",
       "╞══════════╪══════════════╡\n",
       "│ Sunny    ┆ 11.488       │\n",
       "│ Rain     ┆ 34.09        │\n",
       "│ Overcast ┆ 44.9025      │\n",
       "└──────────┴──────────────┘"
      ]
     },
     "execution_count": 9,
     "metadata": {},
     "output_type": "execute_result"
    }
   ],
   "source": [
    "# Filter\n",
    "df_temp = df.filter(pl.col(\"Day\") == \"D1\").select([pl.col(\"Day\"), pl.col(\"Play_Tennis\")])\n",
    "print(df_temp)\n",
    "\n",
    "# Group by\n",
    "# df_temp = df.groupby(\"Outlook\").mean()[\"Ticket_Price\"]\n",
    "df_temp = df.groupby(\"Outlook\").agg(pl.col(\"Ticket_Price\").mean())\n",
    "df_temp"
   ]
  },
  {
   "cell_type": "markdown",
   "metadata": {},
   "source": [
    "<!--  -->"
   ]
  },
  {
   "cell_type": "markdown",
   "metadata": {},
   "source": [
    "### Convert Polars to Pandas Data Frame: [Using Backend Arrow Data Format]"
   ]
  },
  {
   "cell_type": "code",
   "execution_count": 11,
   "metadata": {},
   "outputs": [
    {
     "name": "stdout",
     "output_type": "stream",
     "text": [
      "<class 'pandas.core.frame.DataFrame'>\n",
      "RangeIndex: 14 entries, 0 to 13\n",
      "Data columns (total 11 columns):\n",
      " #   Column         Non-Null Count  Dtype  \n",
      "---  ------         --------------  -----  \n",
      " 0   Day            14 non-null     object \n",
      " 1   Outlook        14 non-null     object \n",
      " 2   Temprature     14 non-null     object \n",
      " 3   Humidity       14 non-null     object \n",
      " 4   Wind           14 non-null     object \n",
      " 5   Play_Tennis    14 non-null     object \n",
      " 6   No_of_Players  14 non-null     int64  \n",
      " 7   Ticket_Price   14 non-null     float64\n",
      " 8   DateTime       14 non-null     object \n",
      " 9   EndDateTime    14 non-null     object \n",
      " 10  IceCreamCost   14 non-null     float64\n",
      "dtypes: float64(2), int64(1), object(8)\n",
      "memory usage: 1.3+ KB\n",
      "None\n"
     ]
    },
    {
     "data": {
      "text/html": [
       "<div><style>\n",
       ".dataframe > thead > tr,\n",
       ".dataframe > tbody > tr {\n",
       "  text-align: right;\n",
       "  white-space: pre-wrap;\n",
       "}\n",
       "</style>\n",
       "<small>shape: (3, 2)</small><table border=\"1\" class=\"dataframe\"><thead><tr><th>Outlook</th><th>Ticket_Price</th></tr><tr><td>str</td><td>f64</td></tr></thead><tbody><tr><td>&quot;Sunny&quot;</td><td>11.488</td></tr><tr><td>&quot;Rain&quot;</td><td>34.09</td></tr><tr><td>&quot;Overcast&quot;</td><td>44.9025</td></tr></tbody></table></div>"
      ],
      "text/plain": [
       "shape: (3, 2)\n",
       "┌──────────┬──────────────┐\n",
       "│ Outlook  ┆ Ticket_Price │\n",
       "│ ---      ┆ ---          │\n",
       "│ str      ┆ f64          │\n",
       "╞══════════╪══════════════╡\n",
       "│ Sunny    ┆ 11.488       │\n",
       "│ Rain     ┆ 34.09        │\n",
       "│ Overcast ┆ 44.9025      │\n",
       "└──────────┴──────────────┘"
      ]
     },
     "execution_count": 11,
     "metadata": {},
     "output_type": "execute_result"
    }
   ],
   "source": [
    "# Convert the Polars DataFrame to an Arrow Table\n",
    "arrow_table = df.to_arrow()\n",
    "# Convert the Arrow Table to a Pandas DataFrame\n",
    "df_pandas = arrow_table.to_pandas()\n",
    "\n",
    "print(df_pandas.info())\n",
    "df_temp"
   ]
  },
  {
   "cell_type": "markdown",
   "metadata": {},
   "source": [
    "<!--  -->"
   ]
  },
  {
   "cell_type": "markdown",
   "metadata": {},
   "source": [
    "### Convert Pandas to Polars Data Frame: [Using Backend Arrow Data Format]"
   ]
  },
  {
   "cell_type": "code",
   "execution_count": 15,
   "metadata": {},
   "outputs": [
    {
     "data": {
      "text/html": [
       "<div><style>\n",
       ".dataframe > thead > tr,\n",
       ".dataframe > tbody > tr {\n",
       "  text-align: right;\n",
       "  white-space: pre-wrap;\n",
       "}\n",
       "</style>\n",
       "<small>shape: (14, 11)</small><table border=\"1\" class=\"dataframe\"><thead><tr><th>Day</th><th>Outlook</th><th>Temprature</th><th>Humidity</th><th>Wind</th><th>Play_Tennis</th><th>No_of_Players</th><th>Ticket_Price</th><th>DateTime</th><th>EndDateTime</th><th>IceCreamCost</th></tr><tr><td>str</td><td>str</td><td>str</td><td>str</td><td>str</td><td>str</td><td>i64</td><td>f64</td><td>str</td><td>str</td><td>f64</td></tr></thead><tbody><tr><td>&quot;D1&quot;</td><td>&quot;Sunny&quot;</td><td>&quot;Hot&quot;</td><td>&quot;High&quot;</td><td>&quot;Weak&quot;</td><td>&quot;No&quot;</td><td>6</td><td>10.6</td><td>&quot;2023-01-01 01:10:10&quot;</td><td>&quot;2023-01-01 03:10:10&quot;</td><td>0.2</td></tr><tr><td>&quot;D2&quot;</td><td>&quot;Sunny&quot;</td><td>&quot;Hot&quot;</td><td>&quot;High&quot;</td><td>&quot;Strong&quot;</td><td>&quot;No&quot;</td><td>10</td><td>12.3</td><td>&quot;2023-01-02 02:30:10&quot;</td><td>&quot;2023-01-02 04:30:10&quot;</td><td>0.4</td></tr><tr><td>&quot;D3&quot;</td><td>&quot;Overcast&quot;</td><td>&quot;Hot&quot;</td><td>&quot;High&quot;</td><td>&quot;Weak&quot;</td><td>&quot;Yes&quot;</td><td>28</td><td>20.6</td><td>&quot;2023-01-03 03:53:10&quot;</td><td>&quot;2023-01-03 05:53:10&quot;</td><td>1.0</td></tr><tr><td>&quot;D4&quot;</td><td>&quot;Rain&quot;</td><td>&quot;Mild&quot;</td><td>&quot;High&quot;</td><td>&quot;Weak&quot;</td><td>&quot;Yes&quot;</td><td>45</td><td>40.3</td><td>&quot;2023-01-04 01:08:22&quot;</td><td>&quot;2023-01-04 03:08:22&quot;</td><td>1.4</td></tr><tr><td>&quot;D5&quot;</td><td>&quot;Rain&quot;</td><td>&quot;Cool&quot;</td><td>&quot;Normal&quot;</td><td>&quot;Weak&quot;</td><td>&quot;Yes&quot;</td><td>56</td><td>60.6</td><td>&quot;2023-01-05 05:10:14&quot;</td><td>&quot;2023-01-05 07:10:14&quot;</td><td>1.6</td></tr><tr><td>&hellip;</td><td>&hellip;</td><td>&hellip;</td><td>&hellip;</td><td>&hellip;</td><td>&hellip;</td><td>&hellip;</td><td>&hellip;</td><td>&hellip;</td><td>&hellip;</td><td>&hellip;</td></tr><tr><td>&quot;D10&quot;</td><td>&quot;Rain&quot;</td><td>&quot;Mild&quot;</td><td>&quot;Normal&quot;</td><td>&quot;Weak&quot;</td><td>&quot;Yes&quot;</td><td>56</td><td>60.23</td><td>&quot;2023-01-09 10:10:20&quot;</td><td>&quot;2023-01-09 12:10:20&quot;</td><td>1.8</td></tr><tr><td>&quot;D11&quot;</td><td>&quot;Sunny&quot;</td><td>&quot;Mild&quot;</td><td>&quot;Normal&quot;</td><td>&quot;Strong&quot;</td><td>&quot;Yes&quot;</td><td>12</td><td>8.75</td><td>&quot;2023-01-10 16:12:24&quot;</td><td>&quot;2023-01-10 18:12:24&quot;</td><td>0.6</td></tr><tr><td>&quot;D12&quot;</td><td>&quot;Overcast&quot;</td><td>&quot;Mild&quot;</td><td>&quot;High&quot;</td><td>&quot;Strong&quot;</td><td>&quot;Yes&quot;</td><td>67</td><td>60.23</td><td>&quot;2023-01-11 20:10:28&quot;</td><td>&quot;2023-01-11 23:10:28&quot;</td><td>2.0</td></tr><tr><td>&quot;D13&quot;</td><td>&quot;Overcast&quot;</td><td>&quot;Hot&quot;</td><td>&quot;Normal&quot;</td><td>&quot;Weak&quot;</td><td>&quot;Yes&quot;</td><td>45</td><td>38.55</td><td>&quot;2023-01-12 21:47:10&quot;</td><td>&quot;2023-01-12 22:47:10&quot;</td><td>1.4</td></tr><tr><td>&quot;D14&quot;</td><td>&quot;Rain&quot;</td><td>&quot;Mild&quot;</td><td>&quot;High&quot;</td><td>&quot;Strong&quot;</td><td>&quot;No&quot;</td><td>2</td><td>1.12</td><td>&quot;2023-01-13 13:10:13&quot;</td><td>&quot;2023-01-13 14:10:13&quot;</td><td>0.2</td></tr></tbody></table></div>"
      ],
      "text/plain": [
       "shape: (14, 11)\n",
       "┌─────┬──────────┬────────────┬──────────┬───┬─────────────┬─────────────┬────────────┬────────────┐\n",
       "│ Day ┆ Outlook  ┆ Temprature ┆ Humidity ┆ … ┆ Ticket_Pric ┆ DateTime    ┆ EndDateTim ┆ IceCreamCo │\n",
       "│ --- ┆ ---      ┆ ---        ┆ ---      ┆   ┆ e           ┆ ---         ┆ e          ┆ st         │\n",
       "│ str ┆ str      ┆ str        ┆ str      ┆   ┆ ---         ┆ str         ┆ ---        ┆ ---        │\n",
       "│     ┆          ┆            ┆          ┆   ┆ f64         ┆             ┆ str        ┆ f64        │\n",
       "╞═════╪══════════╪════════════╪══════════╪═══╪═════════════╪═════════════╪════════════╪════════════╡\n",
       "│ D1  ┆ Sunny    ┆ Hot        ┆ High     ┆ … ┆ 10.6        ┆ 2023-01-01  ┆ 2023-01-01 ┆ 0.2        │\n",
       "│     ┆          ┆            ┆          ┆   ┆             ┆ 01:10:10    ┆ 03:10:10   ┆            │\n",
       "│ D2  ┆ Sunny    ┆ Hot        ┆ High     ┆ … ┆ 12.3        ┆ 2023-01-02  ┆ 2023-01-02 ┆ 0.4        │\n",
       "│     ┆          ┆            ┆          ┆   ┆             ┆ 02:30:10    ┆ 04:30:10   ┆            │\n",
       "│ D3  ┆ Overcast ┆ Hot        ┆ High     ┆ … ┆ 20.6        ┆ 2023-01-03  ┆ 2023-01-03 ┆ 1.0        │\n",
       "│     ┆          ┆            ┆          ┆   ┆             ┆ 03:53:10    ┆ 05:53:10   ┆            │\n",
       "│ D4  ┆ Rain     ┆ Mild       ┆ High     ┆ … ┆ 40.3        ┆ 2023-01-04  ┆ 2023-01-04 ┆ 1.4        │\n",
       "│     ┆          ┆            ┆          ┆   ┆             ┆ 01:08:22    ┆ 03:08:22   ┆            │\n",
       "│ D5  ┆ Rain     ┆ Cool       ┆ Normal   ┆ … ┆ 60.6        ┆ 2023-01-05  ┆ 2023-01-05 ┆ 1.6        │\n",
       "│     ┆          ┆            ┆          ┆   ┆             ┆ 05:10:14    ┆ 07:10:14   ┆            │\n",
       "│ …   ┆ …        ┆ …          ┆ …        ┆ … ┆ …           ┆ …           ┆ …          ┆ …          │\n",
       "│ D10 ┆ Rain     ┆ Mild       ┆ Normal   ┆ … ┆ 60.23       ┆ 2023-01-09  ┆ 2023-01-09 ┆ 1.8        │\n",
       "│     ┆          ┆            ┆          ┆   ┆             ┆ 10:10:20    ┆ 12:10:20   ┆            │\n",
       "│ D11 ┆ Sunny    ┆ Mild       ┆ Normal   ┆ … ┆ 8.75        ┆ 2023-01-10  ┆ 2023-01-10 ┆ 0.6        │\n",
       "│     ┆          ┆            ┆          ┆   ┆             ┆ 16:12:24    ┆ 18:12:24   ┆            │\n",
       "│ D12 ┆ Overcast ┆ Mild       ┆ High     ┆ … ┆ 60.23       ┆ 2023-01-11  ┆ 2023-01-11 ┆ 2.0        │\n",
       "│     ┆          ┆            ┆          ┆   ┆             ┆ 20:10:28    ┆ 23:10:28   ┆            │\n",
       "│ D13 ┆ Overcast ┆ Hot        ┆ Normal   ┆ … ┆ 38.55       ┆ 2023-01-12  ┆ 2023-01-12 ┆ 1.4        │\n",
       "│     ┆          ┆            ┆          ┆   ┆             ┆ 21:47:10    ┆ 22:47:10   ┆            │\n",
       "│ D14 ┆ Rain     ┆ Mild       ┆ High     ┆ … ┆ 1.12        ┆ 2023-01-13  ┆ 2023-01-13 ┆ 0.2        │\n",
       "│     ┆          ┆            ┆          ┆   ┆             ┆ 13:10:13    ┆ 14:10:13   ┆            │\n",
       "└─────┴──────────┴────────────┴──────────┴───┴─────────────┴─────────────┴────────────┴────────────┘"
      ]
     },
     "execution_count": 15,
     "metadata": {},
     "output_type": "execute_result"
    }
   ],
   "source": [
    "# Convert the Pandas DataFrame to an Arrow Table\n",
    "arrow_table = pa.Table.from_pandas(df_pandas)\n",
    "\n",
    "# Convert the Arrow Table to a Polars DataFrame\n",
    "df_polars = pl.from_arrow(arrow_table)\n",
    "\n",
    "df_polars"
   ]
  },
  {
   "cell_type": "code",
   "execution_count": null,
   "metadata": {},
   "outputs": [],
   "source": []
  }
 ],
 "metadata": {
  "kernelspec": {
   "display_name": "data_science_env",
   "language": "python",
   "name": "python3"
  },
  "language_info": {
   "codemirror_mode": {
    "name": "ipython",
    "version": 3
   },
   "file_extension": ".py",
   "mimetype": "text/x-python",
   "name": "python",
   "nbconvert_exporter": "python",
   "pygments_lexer": "ipython3",
   "version": "3.12.2"
  }
 },
 "nbformat": 4,
 "nbformat_minor": 2
}
